{
 "cells": [
  {
   "cell_type": "code",
   "execution_count": 18,
   "metadata": {},
   "outputs": [],
   "source": [
    "from pdfminer3.layout import LAParams, LTTextBox\n",
    "from pdfminer3.pdfpage import PDFPage\n",
    "from pdfminer3.pdfinterp import PDFResourceManager\n",
    "from pdfminer3.pdfinterp import PDFPageInterpreter\n",
    "from pdfminer3.converter import PDFPageAggregator\n",
    "from pdfminer3.converter import TextConverter\n",
    "import io\n",
    "import time\n",
    "import sys  \n",
    "sys.path.insert(0, '/home/manuel/Elements/pythonWorkspace/nlp.doc.search/core')\n",
    "\n",
    "from dir_parser import get_list_of_files, save_txt\n",
    "\n",
    "dataset_dir = '/home/manuel/Elements/Datasets/nlp_doc_search/data/'\n",
    "pdf_dir_in = 'pdf/in/'\n",
    "pdf_dir_out = 'pdf/out/'\n",
    "pdf_file = 'Parin PCC-Blackstone-UK Booklet.pdf'\n",
    "pdf_file_txt = pdf_file[: -4] + '.txt'\n",
    "\n",
    "def pdf_parser(file_to_parse):\n",
    "    start_time = time.time()\n",
    "\n",
    "    resource_manager = PDFResourceManager()\n",
    "    fake_file_handle = io.StringIO()\n",
    "    converter = TextConverter(resource_manager, fake_file_handle)\n",
    "    page_interpreter = PDFPageInterpreter(resource_manager, converter)\n",
    "\n",
    "\n",
    "    with open(file_to_parse, 'rb') as fh:\n",
    "\n",
    "        for page in PDFPage.get_pages(fh,\n",
    "                                      caching=True,\n",
    "                                      check_extractable=True):\n",
    "            page_interpreter.process_page(page)\n",
    "\n",
    "        text = fake_file_handle.getvalue()\n",
    "\n",
    "    # close open handles\n",
    "    converter.close()\n",
    "    fake_file_handle.close()\n",
    "    \n",
    "    elapsed_time = time.time() - start_time\n",
    "    print(\"Elapsed Time: \" + str(elapsed_time) + \" secs\")\n",
    "    \n",
    "    return text\n",
    "   "
   ]
  },
  {
   "cell_type": "code",
   "execution_count": 19,
   "metadata": {},
   "outputs": [],
   "source": [
    "\n",
    "\n"
   ]
  },
  {
   "cell_type": "code",
   "execution_count": 20,
   "metadata": {},
   "outputs": [
    {
     "name": "stdout",
     "output_type": "stream",
     "text": [
      "Elapsed Time: 15.936050176620483 secs\n"
     ]
    }
   ],
   "source": [
    "text = pdf_parser(dataset_dir + pdf_dir_in + pdf_file)\n",
    "save_txt(dataset_dir + pdf_dir_out + pdf_file_txt, text)\n"
   ]
  },
  {
   "cell_type": "code",
   "execution_count": 22,
   "metadata": {},
   "outputs": [
    {
     "name": "stdout",
     "output_type": "stream",
     "text": [
      "['/home/manuel/Elements/Datasets/nlp_doc_search/data/pdf/in/Parin PCC-Blackstone-UK Booklet.pdf', '/home/manuel/Elements/Datasets/nlp_doc_search/data/pdf/out/Parin PCC-Blackstone-UK Booklet.txt']\n"
     ]
    }
   ],
   "source": [
    "print(get_list_of_files(dataset_dir))"
   ]
  },
  {
   "cell_type": "code",
   "execution_count": null,
   "metadata": {},
   "outputs": [],
   "source": []
  }
 ],
 "metadata": {
  "kernelspec": {
   "display_name": "Python [conda env:tf_2_00]",
   "language": "python",
   "name": "conda-env-tf_2_00-py"
  },
  "language_info": {
   "codemirror_mode": {
    "name": "ipython",
    "version": 3
   },
   "file_extension": ".py",
   "mimetype": "text/x-python",
   "name": "python",
   "nbconvert_exporter": "python",
   "pygments_lexer": "ipython3",
   "version": "3.7.6"
  }
 },
 "nbformat": 4,
 "nbformat_minor": 2
}
